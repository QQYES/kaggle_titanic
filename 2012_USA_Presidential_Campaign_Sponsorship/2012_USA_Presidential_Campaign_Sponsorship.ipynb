{
 "cells": [
  {
   "cell_type": "code",
   "execution_count": 1,
   "metadata": {},
   "outputs": [],
   "source": [
    "#import相关的库\n",
    "%matplotlib inline\n",
    "import numpy as np\n",
    "import pandas as pd\n",
    "import matplotlib.pyplot as plt"
   ]
  },
  {
   "cell_type": "code",
   "execution_count": 3,
   "metadata": {},
   "outputs": [],
   "source": [
    "#数据读入使用pd.read_csv()\n",
    "data_01 = pd.read_csv('data_01.csv')\n",
    "data_02 = pd.read_csv('data_02.csv')\n",
    "data_03 = pd.read_csv('data_03.csv')"
   ]
  },
  {
   "cell_type": "code",
   "execution_count": 4,
   "metadata": {},
   "outputs": [],
   "source": [
    "data:pd.DataFrame= pd.concat([data_01,data_02,data_03])"
   ]
  },
  {
   "cell_type": "code",
   "execution_count": 5,
   "metadata": {},
   "outputs": [
    {
     "data": {
      "text/html": [
       "<div>\n",
       "<style scoped>\n",
       "    .dataframe tbody tr th:only-of-type {\n",
       "        vertical-align: middle;\n",
       "    }\n",
       "\n",
       "    .dataframe tbody tr th {\n",
       "        vertical-align: top;\n",
       "    }\n",
       "\n",
       "    .dataframe thead th {\n",
       "        text-align: right;\n",
       "    }\n",
       "</style>\n",
       "<table border=\"1\" class=\"dataframe\">\n",
       "  <thead>\n",
       "    <tr style=\"text-align: right;\">\n",
       "      <th></th>\n",
       "      <th>cand_nm</th>\n",
       "      <th>contbr_nm</th>\n",
       "      <th>contbr_st</th>\n",
       "      <th>contbr_employer</th>\n",
       "      <th>contbr_occupation</th>\n",
       "      <th>contb_receipt_amt</th>\n",
       "      <th>contb_receipt_dt</th>\n",
       "    </tr>\n",
       "  </thead>\n",
       "  <tbody>\n",
       "    <tr>\n",
       "      <th>0</th>\n",
       "      <td>Bachmann, Michelle</td>\n",
       "      <td>HARVEY, WILLIAM</td>\n",
       "      <td>AL</td>\n",
       "      <td>RETIRED</td>\n",
       "      <td>RETIRED</td>\n",
       "      <td>250.0</td>\n",
       "      <td>20-Jun-11</td>\n",
       "    </tr>\n",
       "    <tr>\n",
       "      <th>1</th>\n",
       "      <td>Bachmann, Michelle</td>\n",
       "      <td>HARVEY, WILLIAM</td>\n",
       "      <td>AL</td>\n",
       "      <td>RETIRED</td>\n",
       "      <td>RETIRED</td>\n",
       "      <td>50.0</td>\n",
       "      <td>23-Jun-11</td>\n",
       "    </tr>\n",
       "    <tr>\n",
       "      <th>2</th>\n",
       "      <td>Bachmann, Michelle</td>\n",
       "      <td>SMITH, LANIER</td>\n",
       "      <td>AL</td>\n",
       "      <td>INFORMATION REQUESTED</td>\n",
       "      <td>INFORMATION REQUESTED</td>\n",
       "      <td>250.0</td>\n",
       "      <td>5-Jul-11</td>\n",
       "    </tr>\n",
       "    <tr>\n",
       "      <th>3</th>\n",
       "      <td>Bachmann, Michelle</td>\n",
       "      <td>BLEVINS, DARONDA</td>\n",
       "      <td>AR</td>\n",
       "      <td>NONE</td>\n",
       "      <td>RETIRED</td>\n",
       "      <td>250.0</td>\n",
       "      <td>1-Aug-11</td>\n",
       "    </tr>\n",
       "    <tr>\n",
       "      <th>4</th>\n",
       "      <td>Bachmann, Michelle</td>\n",
       "      <td>WARDENBURG, HAROLD</td>\n",
       "      <td>AR</td>\n",
       "      <td>NONE</td>\n",
       "      <td>RETIRED</td>\n",
       "      <td>300.0</td>\n",
       "      <td>20-Jun-11</td>\n",
       "    </tr>\n",
       "  </tbody>\n",
       "</table>\n",
       "</div>"
      ],
      "text/plain": [
       "              cand_nm           contbr_nm contbr_st        contbr_employer  \\\n",
       "0  Bachmann, Michelle     HARVEY, WILLIAM        AL                RETIRED   \n",
       "1  Bachmann, Michelle     HARVEY, WILLIAM        AL                RETIRED   \n",
       "2  Bachmann, Michelle       SMITH, LANIER        AL  INFORMATION REQUESTED   \n",
       "3  Bachmann, Michelle    BLEVINS, DARONDA        AR                   NONE   \n",
       "4  Bachmann, Michelle  WARDENBURG, HAROLD        AR                   NONE   \n",
       "\n",
       "       contbr_occupation  contb_receipt_amt contb_receipt_dt  \n",
       "0                RETIRED              250.0        20-Jun-11  \n",
       "1                RETIRED               50.0        23-Jun-11  \n",
       "2  INFORMATION REQUESTED              250.0         5-Jul-11  \n",
       "3                RETIRED              250.0         1-Aug-11  \n",
       "4                RETIRED              300.0        20-Jun-11  "
      ]
     },
     "execution_count": 5,
     "metadata": {},
     "output_type": "execute_result"
    }
   ],
   "source": [
    "#查看前5行数据\n",
    "data.head()"
   ]
  },
  {
   "cell_type": "code",
   "execution_count": 6,
   "metadata": {},
   "outputs": [
    {
     "name": "stdout",
     "output_type": "stream",
     "text": [
      "<class 'pandas.core.frame.DataFrame'>\n",
      "Int64Index: 1001732 entries, 0 to 1730\n",
      "Data columns (total 7 columns):\n",
      "cand_nm              1001732 non-null object\n",
      "contbr_nm            1001732 non-null object\n",
      "contbr_st            1001728 non-null object\n",
      "contbr_employer      988003 non-null object\n",
      "contbr_occupation    993302 non-null object\n",
      "contb_receipt_amt    1001732 non-null float64\n",
      "contb_receipt_dt     1001732 non-null object\n",
      "dtypes: float64(1), object(6)\n",
      "memory usage: 61.1+ MB\n"
     ]
    }
   ],
   "source": [
    "#查看数据的信息，包括每个字段的名称、非空数量、字段的数据类型\n",
    "data.info()"
   ]
  },
  {
   "cell_type": "code",
   "execution_count": 7,
   "metadata": {},
   "outputs": [
    {
     "data": {
      "text/html": [
       "<div>\n",
       "<style scoped>\n",
       "    .dataframe tbody tr th:only-of-type {\n",
       "        vertical-align: middle;\n",
       "    }\n",
       "\n",
       "    .dataframe tbody tr th {\n",
       "        vertical-align: top;\n",
       "    }\n",
       "\n",
       "    .dataframe thead th {\n",
       "        text-align: right;\n",
       "    }\n",
       "</style>\n",
       "<table border=\"1\" class=\"dataframe\">\n",
       "  <thead>\n",
       "    <tr style=\"text-align: right;\">\n",
       "      <th></th>\n",
       "      <th>contb_receipt_amt</th>\n",
       "    </tr>\n",
       "  </thead>\n",
       "  <tbody>\n",
       "    <tr>\n",
       "      <th>count</th>\n",
       "      <td>1.001732e+06</td>\n",
       "    </tr>\n",
       "    <tr>\n",
       "      <th>mean</th>\n",
       "      <td>2.982358e+02</td>\n",
       "    </tr>\n",
       "    <tr>\n",
       "      <th>std</th>\n",
       "      <td>3.749665e+03</td>\n",
       "    </tr>\n",
       "    <tr>\n",
       "      <th>min</th>\n",
       "      <td>-3.080000e+04</td>\n",
       "    </tr>\n",
       "    <tr>\n",
       "      <th>25%</th>\n",
       "      <td>3.500000e+01</td>\n",
       "    </tr>\n",
       "    <tr>\n",
       "      <th>50%</th>\n",
       "      <td>1.000000e+02</td>\n",
       "    </tr>\n",
       "    <tr>\n",
       "      <th>75%</th>\n",
       "      <td>2.500000e+02</td>\n",
       "    </tr>\n",
       "    <tr>\n",
       "      <th>max</th>\n",
       "      <td>2.014491e+06</td>\n",
       "    </tr>\n",
       "  </tbody>\n",
       "</table>\n",
       "</div>"
      ],
      "text/plain": [
       "       contb_receipt_amt\n",
       "count       1.001732e+06\n",
       "mean        2.982358e+02\n",
       "std         3.749665e+03\n",
       "min        -3.080000e+04\n",
       "25%         3.500000e+01\n",
       "50%         1.000000e+02\n",
       "75%         2.500000e+02\n",
       "max         2.014491e+06"
      ]
     },
     "execution_count": 7,
     "metadata": {},
     "output_type": "execute_result"
    }
   ],
   "source": [
    "#用统计学指标快速描述数据的概要\n",
    "data.describe()"
   ]
  },
  {
   "cell_type": "code",
   "execution_count": 8,
   "metadata": {},
   "outputs": [],
   "source": [
    "#从data.info()得知，contbr_employer、contbr_occupation均有少量缺失值,均填充为NOT PROVIDED\n",
    "data['contbr_employer'].fillna('NOT PROVIDED',inplace=True)\n",
    "data['contbr_occupation'].fillna('NOT PROVIDED',inplace=True)"
   ]
  },
  {
   "cell_type": "code",
   "execution_count": 12,
   "metadata": {
    "pycharm": {
     "is_executing": false
    }
   },
   "outputs": [
    {
     "name": "stdout",
     "output_type": "stream",
     "text": [
      "共有13位候选人，分别是：['Bachmann, Michelle' 'Romney, Mitt' 'Obama, Barack'\n",
      " \"Roemer, Charles E. 'Buddy' III\" 'Pawlenty, Timothy' 'Johnson, Gary Earl'\n",
      " 'Paul, Ron' 'Santorum, Rick' 'Cain, Herman' 'Gingrich, Newt'\n",
      " 'McCotter, Thaddeus G' 'Huntsman, Jon' 'Perry, Rick']\n"
     ]
    }
   ],
   "source": [
    "#查看数据中总统候选人都有谁\n",
    "print('共有{}位候选人，分别是：{}'.format(len(data['cand_nm'].unique()),data['cand_nm'].unique()))\n"
   ]
  },
  {
   "cell_type": "code",
   "execution_count": 13,
   "metadata": {},
   "outputs": [],
   "source": [
    "#通过搜索引擎等途径，获取到每个总统候选人的所属党派，建立字典parties，候选人名字作为键，所属党派作为对应的值\n",
    "parties = {'Bachmann, Michelle': 'Republican',\n",
    "           'Cain, Herman': 'Republican',\n",
    "           'Gingrich, Newt': 'Republican',\n",
    "           'Huntsman, Jon': 'Republican',\n",
    "           'Johnson, Gary Earl': 'Republican',\n",
    "           'McCotter, Thaddeus G': 'Republican',\n",
    "           'Obama, Barack': 'Democrat',\n",
    "           'Paul, Ron': 'Republican',\n",
    "           'Pawlenty, Timothy': 'Republican',\n",
    "           'Perry, Rick': 'Republican',\n",
    "           \"Roemer, Charles E. 'Buddy' III\": 'Republican',\n",
    "           'Romney, Mitt': 'Republican',\n",
    "           'Santorum, Rick': 'Republican'}"
   ]
  },
  {
   "cell_type": "code",
   "execution_count": 37,
   "metadata": {
    "pycharm": {
     "is_executing": false
    }
   },
   "outputs": [
    {
     "data": {
      "text/plain": [
       "Democrat      593747\n",
       "Republican    407985\n",
       "Name: party, dtype: int64"
      ]
     },
     "execution_count": 37,
     "metadata": {},
     "output_type": "execute_result"
    }
   ],
   "source": [
    "#通过map映射函数，增加一列party存储党派信息\n",
    "data['party']=data['cand_nm'].map(parties)\n",
    "#查看两个党派的情况\n",
    "data['party'].value_counts()"
   ]
  },
  {
   "cell_type": "code",
   "execution_count": 35,
   "metadata": {
    "pycharm": {
     "is_executing": false
    }
   },
   "outputs": [
    {
     "data": {
      "text/plain": [
       "party\n",
       "Democrat      1.335028e+08\n",
       "Republican    1.652496e+08\n",
       "Name: contb_receipt_amt, dtype: float64"
      ]
     },
     "execution_count": 35,
     "metadata": {},
     "output_type": "execute_result"
    }
   ],
   "source": [
    "data.groupby('party')['contb_receipt_amt'].sum()"
   ]
  },
  {
   "cell_type": "code",
   "execution_count": 29,
   "metadata": {
    "pycharm": {
     "is_executing": false,
     "name": "#%%\n"
    }
   },
   "outputs": [
    {
     "data": {
      "text/plain": [
       "contbr_occupation\n",
       "RETIRED                                   48176397.00\n",
       "ATTORNEY                                  18470473.30\n",
       "HOMEMAKER                                 17484807.65\n",
       "INFORMATION REQUESTED PER BEST EFFORTS    15859514.55\n",
       "INFORMATION REQUESTED                      8742357.59\n",
       "PHYSICIAN                                  7224044.40\n",
       "PRESIDENT                                  6347843.59\n",
       "EXECUTIVE                                  5273717.90\n",
       "CONSULTANT                                 4932627.98\n",
       "NOT PROVIDED                               4224760.39\n",
       "CEO                                        3570942.20\n",
       "LAWYER                                     3537982.19\n",
       "OWNER                                      3278488.16\n",
       "INVESTOR                                   3204481.92\n",
       "ENGINEER                                   2730527.43\n",
       "PROFESSOR                                  2458033.81\n",
       "C.E.O.                                     2433218.11\n",
       "SELF-EMPLOYED                              2259150.94\n",
       "MANAGER                                    2167571.47\n",
       "REAL ESTATE                                2110499.34\n",
       "Name: contb_receipt_amt, dtype: float64"
      ]
     },
     "execution_count": 29,
     "metadata": {},
     "output_type": "execute_result"
    }
   ],
   "source": [
    "data.groupby('contbr_occupation')['contb_receipt_amt'].sum().sort_values(ascending=False)[:20]"
   ]
  },
  {
   "cell_type": "code",
   "execution_count": 36,
   "metadata": {},
   "outputs": [],
   "source": [
    "#建立一个职业对应字典，把相同职业的不同表达映射为对应的职业，比如把C.E.O.映射为CEO\n",
    "occupation_map = {\n",
    "  'INFORMATION REQUESTED PER BEST EFFORTS':'NOT PROVIDED',\n",
    "  'INFORMATION REQUESTED':'NOT PROVIDED',\n",
    "  'SELF' : 'SELF-EMPLOYED',\n",
    "  'SELF EMPLOYED' : 'SELF-EMPLOYED',\n",
    "  'C.E.O.':'CEO',\n",
    "  'LAWYER':'ATTORNEY',\n",
    "}\n",
    "\n",
    "# 如果不在字典中,返回x\n",
    "f = lambda x: occupation_map.get(x, x)\n",
    "data.contbr_occupation = data.contbr_occupation.map(f)"
   ]
  },
  {
   "cell_type": "code",
   "execution_count": 38,
   "metadata": {},
   "outputs": [],
   "source": [
    "emp_mapping = {\n",
    "   'INFORMATION REQUESTED PER BEST EFFORTS' : 'NOT PROVIDED',\n",
    "   'INFORMATION REQUESTED' : 'NOT PROVIDED',\n",
    "   'SELF' : 'SELF-EMPLOYED',\n",
    "   'SELF EMPLOYED' : 'SELF-EMPLOYED',\n",
    "}\n",
    "\n",
    "# If no mapping provided, return x\n",
    "f = lambda x: emp_mapping.get(x, x)\n",
    "data.contbr_employer = data.contbr_employer.map(f)"
   ]
  },
  {
   "cell_type": "code",
   "execution_count": null,
   "metadata": {},
   "outputs": [],
   "source": []
  }
 ],
 "metadata": {
  "kernelspec": {
   "display_name": "Python 3",
   "language": "python",
   "name": "python3"
  },
  "language_info": {
   "codemirror_mode": {
    "name": "ipython",
    "version": 3
   },
   "file_extension": ".py",
   "mimetype": "text/x-python",
   "name": "python",
   "nbconvert_exporter": "python",
   "pygments_lexer": "ipython3",
   "version": "3.6.8"
  },
  "pycharm": {
   "stem_cell": {
    "cell_type": "raw",
    "metadata": {
     "collapsed": false
    },
    "source": []
   }
  }
 },
 "nbformat": 4,
 "nbformat_minor": 2
}
