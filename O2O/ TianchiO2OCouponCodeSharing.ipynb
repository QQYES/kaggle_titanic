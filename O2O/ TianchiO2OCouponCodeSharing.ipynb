{
 "cells": [
  {
   "cell_type": "code",
   "execution_count": 1,
   "metadata": {},
   "outputs": [],
   "source": [
    "import pandas as pd\n",
    "import numpy as np\n",
    "from datetime import date\n",
    "import datetime as dt\n",
    "\n",
    "#将数据分为3个数据集 利用滑窗法\n",
    "#将2016年1月1日到4月13日的数据提取特征，利用4月14日的到5月14日的作为测试集\n",
    "#将2月1日到5月14日的作为数据集提取特征，利用5月15日6月15日的作为测试集\n",
    "#将3月15日到6月30日作为数据集提取特征，再测试7月1日到7月31日的数据\n",
    "\n",
    "\"\"\"\n",
    "1 提取用户特征\n",
    "    距离\n",
    "    用户的平均距离，用户的最小距离，用户的最大距离\n",
    "    使用优惠券买的物品数，买的总数，收到的优惠券数\n",
    "    使用优惠券买的/总共收到的优惠券\n",
    "\"\"\"\n",
    "#利用pandas读取csv个格式的数据,header=None表示原文件没有索引\n",
    "#原文件中总共有1754884个记录,header=0，表明第0行代表列名\n",
    "# keep_default_na=False 会使原本是nan的数据存为\"\"而不是null\n",
    "off_train = pd.read_csv(\"ccf_offline_stage1_train.csv\",header=0,keep_default_na=False)\n",
    "#print(off_train)\n",
    "off_train.columns=['user_id','merchant_id','coupon_id','discount_rate','distance','date_received','date']\n",
    "\n",
    "\n",
    "off_test = pd.read_csv(\"ccf_offline_stage1_test_revised.csv\",header=0,keep_default_na=False)\n",
    "off_test.columns = ['user_id','merchant_id','coupon_id','discount_rate','distance','date_received']\n",
    "\n",
    "#线上数据\n",
    "on_train = pd.read_csv(\"ccf_online_stage1_train.csv\",header=0,keep_default_na=False)\n",
    "on_train.columns = ['user_id','merchant_id','action','coupon_id','discount_rate','date_received','date']"
   ]
  },
  {
   "cell_type": "code",
   "execution_count": 2,
   "metadata": {},
   "outputs": [],
   "source": [
    "#使数据集3等于test集\n",
    "dataset3 = off_test\n",
    "#数据集3的特征为 取 线上数据中领券和用券日期大于3月15日和小于6月30日的\n",
    "feature3 = off_train[((off_train.date>='20160315')&(off_train.date<='20160630'))|((off_train.date=='null')&(off_train.date_received>='20160315')&(off_train.date_received<='20160630'))]\n",
    "#提取数据集2的测试集\n",
    "dataset2 = off_train[(off_train.date_received>='20160515')&(off_train.date_received<='20160615')]\n",
    "#在2月1日到5月14日之间使用了券,只要领取时间在2月1日到5月14日之间,并包括没有数据中没有领取券的\n",
    "feature2 = off_train[(off_train.date>='20160201')&(off_train.date<='20160514')|((off_train.date=='null')&(off_train.date_received>='20160201')&(off_train.date_received<='20160514'))]\n",
    "\n",
    "#同理可得\n",
    "dataset1 = off_train[(off_train.date_received>='201604014')&(off_train.date_received<='20160514')]\n",
    "feature1 = off_train[(off_train.date>='20160101')&(off_train.date<='20160413')|((off_train.date=='null')&(off_train.date_received>='20160101')&(off_train.date_received<='20160413'))]"
   ]
  },
  {
   "cell_type": "code",
   "execution_count": null,
   "metadata": {},
   "outputs": [],
   "source": []
  }
 ],
 "metadata": {
  "kernelspec": {
   "display_name": "Python 3",
   "language": "python",
   "name": "python3"
  },
  "language_info": {
   "codemirror_mode": {
    "name": "ipython",
    "version": 3
   },
   "file_extension": ".py",
   "mimetype": "text/x-python",
   "name": "python",
   "nbconvert_exporter": "python",
   "pygments_lexer": "ipython3",
   "version": "3.6.8"
  }
 },
 "nbformat": 4,
 "nbformat_minor": 1
}
