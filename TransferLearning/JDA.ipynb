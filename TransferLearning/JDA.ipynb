{
 "cells": [
  {
   "cell_type": "code",
   "execution_count": 3,
   "metadata": {
    "collapsed": true
   },
   "outputs": [],
   "source": [
    "import numpy as np\n",
    "import pandas as pd\n",
    "import scipy.io as scio\n",
    "import matplotlib.pyplot as plt\n",
    "import warnings\n",
    "import functools\n",
    "from mpl_toolkits.mplot3d import Axes3D\n",
    "import sklearn.metrics\n",
    "from sklearn.neighbors import KNeighborsClassifier\n",
    "import scipy.io\n",
    "import scipy.linalg\n",
    "warnings.filterwarnings('ignore')"
   ]
  },
  {
   "cell_type": "code",
   "execution_count": 4,
   "metadata": {},
   "outputs": [
    {
     "name": "stdout",
     "output_type": "stream",
     "text": [
      "[[4 6 4 0]\n",
      " [4 7 5 2]\n",
      " [6 4 7 8]\n",
      " [1 5 0 6]]\n"
     ]
    },
    {
     "data": {
      "image/png": "[encoded data removed]",
      "text/plain": [
       "<matplotlib.figure.Figure at 0x1f539c4bdd8>"
      ]
     },
     "metadata": {},
     "output_type": "display_data"
    },
    {
     "name": "stdout",
     "output_type": "stream",
     "text": [
      "[[0 0 9 3]\n",
      " [0 0 0 7]\n",
      " [1 9 8 7]\n",
      " [0 9 9 8]]\n"
     ]
    },
    {
     "data": {
      "image/png": "[encoded data removed]",
      "text/plain": [
       "<matplotlib.figure.Figure at 0x1f53a6a0b38>"
      ]
     },
     "metadata": {},
     "output_type": "display_data"
    }
   ],
   "source": [
    "usps = scio.loadmat('usps.mat.bin')\n",
    "mnist = scio.loadmat('mnist.mat.bin')\n",
    "\n",
    "'''Visualization'''\n",
    "\n",
    "## images in MNIST\n",
    "mnist_rdm = np.random.randint(2000, size=16)\n",
    "mnist_labels = mnist['Y'][mnist_rdm].reshape(4,4).T - 1\n",
    "mnist_ims = mnist['X'][:,mnist_rdm].T\n",
    "mnist_ims = np.array([im.reshape(16,16) for im in mnist_ims])\n",
    "mnist_ims = functools.reduce(lambda x, y : np.concatenate((x, y),axis=1), np.array([mnist_ims[i*4:(i+1)*4].reshape(4*16,-1) for i in range(4)]))\n",
    "print(mnist_labels)\n",
    "plt.imshow(mnist_ims, cmap='gray')\n",
    "plt.show()\n",
    "\n",
    "## images in USPS\n",
    "usps_rdm = np.random.randint(1800, size=16)\n",
    "usps_labels = usps['Y'][usps_rdm].reshape(4,4).T - 1\n",
    "usps_ims = usps['X'][:,usps_rdm].T\n",
    "usps_ims = np.array([im.reshape(16,16) for im in usps_ims])\n",
    "usps_ims = functools.reduce(lambda x, y : np.concatenate((x, y),axis=1), np.array([usps_ims[i*4:(i+1)*4].reshape(4*16,-1) for i in range(4)]))\n",
    "print(usps_labels)\n",
    "plt.imshow(usps_ims, cmap='gray')\n",
    "plt.show()"
   ]
  },
  {
   "cell_type": "code",
   "execution_count": 5,
   "metadata": {
    "collapsed": true
   },
   "outputs": [],
   "source": [
    "'''\n",
    "Kernels\n",
    "X: m x n\n",
    "m: num of features\n",
    "n: num of instances\n",
    "'''\n",
    "def kernel(kernel_type, X, gamma = 1):\n",
    "    if kernel_type == 'original':\n",
    "        K = X\n",
    "    elif kernel_type == 'linear':\n",
    "        K = np.dot(X.T, X)\n",
    "    elif kernel_type == 'rbf':\n",
    "        D = np.sum(X.T**2, axis=1).reshape(X.shape[1],-1).dot(np.ones((1,X.shape[1]))) + \\\n",
    "            np.ones((X.shape[1], 1)).dot(np.sum(X.T**2, axis=1).reshape(-1,X.shape[1])) - 2*X.T.dot(X)\n",
    "        K = np.exp(-gamma * D)\n",
    "    return K"
   ]
  },
  {
   "cell_type": "code",
   "execution_count": 6,
   "metadata": {
    "collapsed": true
   },
   "outputs": [],
   "source": [
    "def JDA(source, target, lamda, gamma, kernel_type='rbf', iterations=10, Y_pseudo=None):\n",
    "    X_source, Y_source = source['X'], source['Y']\n",
    "    X_target, Y_target = target['X'], target['Y']\n",
    "    ns, nt = len(Y_source), len(Y_target)\n",
    "    n = ns + nt\n",
    "    '''concatenate the source and target data'''\n",
    "    X = np.concatenate((X_source, X_target), axis = 1)\n",
    "    '''normlization is important, the acc is very low without this step'''\n",
    "    X /= np.linalg.norm(X, axis=0)\n",
    "    '''construct the matrix H'''\n",
    "    H = np.eye(n) - (1/n) * np.ones((n,n))\n",
    "    '''construct the matrix M0'''\n",
    "    e0 = np.concatenate((np.ones((ns,1))/ns, -np.ones((nt,1))/nt), axis=0)\n",
    "    M0 = e0.dot(e0.T) \n",
    "    \n",
    "    if Y_pseudo is not None:\n",
    "        C = len(np.unique(Y_source))\n",
    "        for i in range(iterations):\n",
    "            print('    iteration:',i+1, ' ', end='')\n",
    "            N = 0\n",
    "            for c in range(1, C+1):\n",
    "                e = np.zeros((n, 1))\n",
    "                e[np.where(Y_source==c)] = 1 / len(Y_source[np.where(Y_source==c)])\n",
    "                e[np.where(Y_pseudo==c)[0] + ns] = -1 / len(Y_pseudo[np.where(Y_pseudo==c)])\n",
    "                N += e.dot(e.T)\n",
    "\n",
    "            M = M0 + N\n",
    "            M /= np.linalg.norm(M,'fro')\n",
    "            n_eye = X.shape[0] if kernel_type == 'original' else n\n",
    "            K = kernel(kernel_type, X, gamma)\n",
    "            eig_vals, eig_vecs = np.linalg.eig(np.linalg.pinv(np.linalg.multi_dot([K, H, K.T])).dot(np.linalg.multi_dot([K, M, K.T]) + lamda * np.eye(n_eye)))\n",
    "            ind = np.argsort(eig_vals)\n",
    "            A = eig_vecs[:,ind[:100]]\n",
    "            Z = A.T.dot(K)\n",
    "            Z /= np.linalg.norm(Z, axis = 0)\n",
    "            \n",
    "            X_source_JDA, X_target_JDA = Z[:,:ns], Z[:,ns:]\n",
    "            \n",
    "            pseudo = KNeighborsClassifier(n_neighbors=1)\n",
    "            pseudo.fit(X_source_JDA.T, Y_source.flatten())\n",
    "            Y_pseudo = pseudo.predict(X_target_JDA.T)\n",
    "            pseudo_acc = sklearn.metrics.accuracy_score(Y_target.flatten(), Y_pseudo)\n",
    "            print('acc:',pseudo_acc)\n",
    "            \n",
    "    return X_source_JDA, X_target_JDA\n",
    "    \n",
    "    "
   ]
  },
  {
   "cell_type": "code",
   "execution_count": null,
   "metadata": {},
   "outputs": [
    {
     "name": "stdout",
     "output_type": "stream",
     "text": [
      "\n",
      " from mnist to usps\n",
      "    acc of baseline 1-NN: 0.6444444444444445\n",
      "    iteration: 1  "
     ]
    }
   ],
   "source": [
    "### '''两个领域，分别是mnist, usps. 可以在增加其他数据集，构造多个领域'''\n",
    "'''各个领域分别作为源领域和目标领域，'''\n",
    "domain_names = ['mnist', 'usps']\n",
    "domains = [mnist, usps]\n",
    "for i in range(len(domains)):\n",
    "    for j in range(len(domains)):\n",
    "        if i != j:\n",
    "            print('\\n from', domain_names[i], 'to', domain_names[j])\n",
    "            \n",
    "            source, target = domains[i], domains[j]\n",
    "            baseline = KNeighborsClassifier(n_neighbors=1)\n",
    "            baseline.fit(source['X'].T, source['Y'].flatten())\n",
    "            Y_pseudo_target = baseline.predict(target['X'].T)\n",
    "            baseline_acc = sklearn.metrics.accuracy_score(target['Y'].flatten(), Y_pseudo_target)\n",
    "            print('    acc of baseline 1-NN:', baseline_acc)\n",
    "            \n",
    "            X_JDA_source, X_JDA_target = JDA(source, target, lamda=1, gamma=1, kernel_type='rbf', iterations=5, Y_pseudo=Y_pseudo_target)\n",
    "            jda = KNeighborsClassifier(n_neighbors=1)\n",
    "            jda.fit(X_JDA_source.T, source['Y'].flatten())\n",
    "            Y_pseudo_target = jda.predict(X_JDA_target.T)\n",
    "            jda_acc = sklearn.metrics.accuracy_score(target['Y'].flatten(), Y_pseudo_target)\n",
    "            print('    acc of jda:', jda_acc)\n",
    "            \n",
    "#             fig = plt.figure()\n",
    "#             ax = fig.add_subplot(111, projection='3d')\n",
    "#             plt.scatter(X_JDA_source[0,:], X_JDA_source[1,:], X_JDA_source[2,:], c=source['Y'].squeeze())\n",
    "#             plt.show()\n",
    "            \n",
    "#             fig = plt.figure()\n",
    "#             ax = fig.add_subplot(111, projection='3d')\n",
    "#             ax.scatter(X_JDA_target[0,:], X_JDA_target[1,:], X_JDA_target[2,:], c=target['Y'].squeeze())\n",
    "#             plt.show()\n",
    "            \n",
    "            "
   ]
  },
  {
   "cell_type": "code",
   "execution_count": null,
   "metadata": {
    "collapsed": true
   },
   "outputs": [],
   "source": []
  }
 ],
 "metadata": {
  "kernelspec": {
   "display_name": "Python 3",
   "language": "python",
   "name": "python3"
  },
  "language_info": {
   "codemirror_mode": {
    "name": "ipython",
    "version": 3
   },
   "file_extension": ".py",
   "mimetype": "text/x-python",
   "name": "python",
   "nbconvert_exporter": "python",
   "pygments_lexer": "ipython3",
   "version": "3.6.3"
  }
 },
 "nbformat": 4,
 "nbformat_minor": 2
}
